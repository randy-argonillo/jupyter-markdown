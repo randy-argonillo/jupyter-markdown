{
  "nbformat": 4,
  "nbformat_minor": 0,
  "metadata": {
    "colab": {
      "name": "markdown-in-jupyter.ipynb",
      "provenance": [],
      "authorship_tag": "ABX9TyO446R36XIQ83gtxiHvDxFx",
      "include_colab_link": true
    },
    "kernelspec": {
      "name": "python3",
      "display_name": "Python 3"
    },
    "language_info": {
      "name": "python"
    }
  },
  "cells": [
    {
      "cell_type": "markdown",
      "metadata": {
        "id": "view-in-github",
        "colab_type": "text"
      },
      "source": [
        "<a href=\"https://colab.research.google.com/github/randy-argonillo/jupyter-markdown/blob/main/markdown_in_jupyter.ipynb\" target=\"_parent\"><img src=\"https://colab.research.google.com/assets/colab-badge.svg\" alt=\"Open In Colab\"/></a>"
      ]
    },
    {
      "cell_type": "code",
      "metadata": {
        "colab": {
          "base_uri": "https://localhost:8080/"
        },
        "id": "psLA4kKGpZpn",
        "outputId": "d3298a90-1604-4f33-f107-bb74353d30a6"
      },
      "source": [
        "print(\"Hello\")"
      ],
      "execution_count": 1,
      "outputs": [
        {
          "output_type": "stream",
          "name": "stdout",
          "text": [
            "Hello\n"
          ]
        }
      ]
    },
    {
      "cell_type": "markdown",
      "metadata": {
        "id": "W7aI8jAJqN8j"
      },
      "source": [
        "# Practice Markdown\n",
        "This notebook lets you experiment with producing repeatable technical documentation. Use this notebook to do the following actions:\n",
        "\n",
        "* Create a code cell and print a Python Hello World statement: print(\"hello world\")\n",
        "* Create a Markdown Cell and add a Title using # and then a statement using plain text. You can looks at the source code for this cell to get an idea of how to use Markdown.\n",
        "* Take some ideas from the [Master Markdown Github Guide](https://guides.github.com/features/mastering-markdown/) and implement them here.\n",
        "* Finally, download this notebook as a .ipynb file and check into a Github Project\n"
      ]
    }
  ]
}